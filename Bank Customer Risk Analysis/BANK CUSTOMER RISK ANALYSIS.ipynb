{
 "cells": [
  {
   "cell_type": "markdown",
   "metadata": {},
   "source": [
    "# Bank Customer Exit Risk Analysis\n"
   ]
  },
  {
   "cell_type": "code",
   "execution_count": 1,
   "metadata": {},
   "outputs": [
    {
     "data": {
      "text/html": [
       "<div>\n",
       "<style scoped>\n",
       "    .dataframe tbody tr th:only-of-type {\n",
       "        vertical-align: middle;\n",
       "    }\n",
       "\n",
       "    .dataframe tbody tr th {\n",
       "        vertical-align: top;\n",
       "    }\n",
       "\n",
       "    .dataframe thead th {\n",
       "        text-align: right;\n",
       "    }\n",
       "</style>\n",
       "<table border=\"1\" class=\"dataframe\">\n",
       "  <thead>\n",
       "    <tr style=\"text-align: right;\">\n",
       "      <th></th>\n",
       "      <th>RowNumber</th>\n",
       "      <th>CustomerId</th>\n",
       "      <th>Surname</th>\n",
       "      <th>CreditScore</th>\n",
       "      <th>Geography</th>\n",
       "      <th>Gender</th>\n",
       "      <th>Age</th>\n",
       "      <th>Tenure</th>\n",
       "      <th>Balance</th>\n",
       "      <th>NumOfProducts</th>\n",
       "      <th>HasCrCard</th>\n",
       "      <th>IsActiveMember</th>\n",
       "      <th>EstimatedSalary</th>\n",
       "      <th>Exited</th>\n",
       "    </tr>\n",
       "  </thead>\n",
       "  <tbody>\n",
       "    <tr>\n",
       "      <th>0</th>\n",
       "      <td>1</td>\n",
       "      <td>15634602</td>\n",
       "      <td>Hargrave</td>\n",
       "      <td>619</td>\n",
       "      <td>France</td>\n",
       "      <td>Female</td>\n",
       "      <td>42</td>\n",
       "      <td>2</td>\n",
       "      <td>0.00</td>\n",
       "      <td>1</td>\n",
       "      <td>1</td>\n",
       "      <td>1</td>\n",
       "      <td>101348.88</td>\n",
       "      <td>1</td>\n",
       "    </tr>\n",
       "    <tr>\n",
       "      <th>1</th>\n",
       "      <td>2</td>\n",
       "      <td>15647311</td>\n",
       "      <td>Hill</td>\n",
       "      <td>608</td>\n",
       "      <td>Spain</td>\n",
       "      <td>Female</td>\n",
       "      <td>41</td>\n",
       "      <td>1</td>\n",
       "      <td>83807.86</td>\n",
       "      <td>1</td>\n",
       "      <td>0</td>\n",
       "      <td>1</td>\n",
       "      <td>112542.58</td>\n",
       "      <td>0</td>\n",
       "    </tr>\n",
       "    <tr>\n",
       "      <th>2</th>\n",
       "      <td>3</td>\n",
       "      <td>15619304</td>\n",
       "      <td>Onio</td>\n",
       "      <td>502</td>\n",
       "      <td>France</td>\n",
       "      <td>Female</td>\n",
       "      <td>42</td>\n",
       "      <td>8</td>\n",
       "      <td>159660.80</td>\n",
       "      <td>3</td>\n",
       "      <td>1</td>\n",
       "      <td>0</td>\n",
       "      <td>113931.57</td>\n",
       "      <td>1</td>\n",
       "    </tr>\n",
       "    <tr>\n",
       "      <th>3</th>\n",
       "      <td>4</td>\n",
       "      <td>15701354</td>\n",
       "      <td>Boni</td>\n",
       "      <td>699</td>\n",
       "      <td>France</td>\n",
       "      <td>Female</td>\n",
       "      <td>39</td>\n",
       "      <td>1</td>\n",
       "      <td>0.00</td>\n",
       "      <td>2</td>\n",
       "      <td>0</td>\n",
       "      <td>0</td>\n",
       "      <td>93826.63</td>\n",
       "      <td>0</td>\n",
       "    </tr>\n",
       "    <tr>\n",
       "      <th>4</th>\n",
       "      <td>5</td>\n",
       "      <td>15737888</td>\n",
       "      <td>Mitchell</td>\n",
       "      <td>850</td>\n",
       "      <td>Spain</td>\n",
       "      <td>Female</td>\n",
       "      <td>43</td>\n",
       "      <td>2</td>\n",
       "      <td>125510.82</td>\n",
       "      <td>1</td>\n",
       "      <td>1</td>\n",
       "      <td>1</td>\n",
       "      <td>79084.10</td>\n",
       "      <td>0</td>\n",
       "    </tr>\n",
       "  </tbody>\n",
       "</table>\n",
       "</div>"
      ],
      "text/plain": [
       "   RowNumber  CustomerId   Surname  CreditScore Geography  Gender  Age  \\\n",
       "0          1    15634602  Hargrave          619    France  Female   42   \n",
       "1          2    15647311      Hill          608     Spain  Female   41   \n",
       "2          3    15619304      Onio          502    France  Female   42   \n",
       "3          4    15701354      Boni          699    France  Female   39   \n",
       "4          5    15737888  Mitchell          850     Spain  Female   43   \n",
       "\n",
       "   Tenure    Balance  NumOfProducts  HasCrCard  IsActiveMember  \\\n",
       "0       2       0.00              1          1               1   \n",
       "1       1   83807.86              1          0               1   \n",
       "2       8  159660.80              3          1               0   \n",
       "3       1       0.00              2          0               0   \n",
       "4       2  125510.82              1          1               1   \n",
       "\n",
       "   EstimatedSalary  Exited  \n",
       "0        101348.88       1  \n",
       "1        112542.58       0  \n",
       "2        113931.57       1  \n",
       "3         93826.63       0  \n",
       "4         79084.10       0  "
      ]
     },
     "execution_count": 1,
     "metadata": {},
     "output_type": "execute_result"
    }
   ],
   "source": [
    "import pandas as pd\n",
    "import numpy as np\n",
    "df = pd.read_csv(\"C:/Users/H/Downloads/Churn_Modelling.csv\")\n",
    "df.head()"
   ]
  },
  {
   "cell_type": "code",
   "execution_count": 2,
   "metadata": {},
   "outputs": [],
   "source": [
    "import tensorflow as tf"
   ]
  },
  {
   "cell_type": "code",
   "execution_count": 3,
   "metadata": {},
   "outputs": [
    {
     "data": {
      "text/plain": [
       "'2.0.0'"
      ]
     },
     "execution_count": 3,
     "metadata": {},
     "output_type": "execute_result"
    }
   ],
   "source": [
    "tf.__version__"
   ]
  },
  {
   "cell_type": "code",
   "execution_count": 4,
   "metadata": {},
   "outputs": [],
   "source": [
    "#Taking columns from credit score as number,id,name doesn't help\n",
    "x = df.iloc[:, 3:-1].values\n",
    "y = df.iloc[:, -1].values"
   ]
  },
  {
   "cell_type": "code",
   "execution_count": 5,
   "metadata": {},
   "outputs": [
    {
     "name": "stdout",
     "output_type": "stream",
     "text": [
      "[[619 'France' 'Female' ... 1 1 101348.88]\n",
      " [608 'Spain' 'Female' ... 0 1 112542.58]\n",
      " [502 'France' 'Female' ... 1 0 113931.57]\n",
      " ...\n",
      " [709 'France' 'Female' ... 0 1 42085.58]\n",
      " [772 'Germany' 'Male' ... 1 0 92888.52]\n",
      " [792 'France' 'Female' ... 1 0 38190.78]]\n"
     ]
    }
   ],
   "source": [
    "print(x)"
   ]
  },
  {
   "cell_type": "code",
   "execution_count": 6,
   "metadata": {},
   "outputs": [
    {
     "name": "stdout",
     "output_type": "stream",
     "text": [
      "[1 0 1 ... 1 1 0]\n"
     ]
    }
   ],
   "source": [
    "print(y)"
   ]
  },
  {
   "cell_type": "code",
   "execution_count": 7,
   "metadata": {},
   "outputs": [],
   "source": [
    "#Label encode Gender\n",
    "from sklearn.preprocessing import LabelEncoder\n",
    "le = LabelEncoder()\n",
    "x[:, 2] = le.fit_transform(x[:, 2])"
   ]
  },
  {
   "cell_type": "code",
   "execution_count": 8,
   "metadata": {},
   "outputs": [
    {
     "name": "stdout",
     "output_type": "stream",
     "text": [
      "[[619 'France' 0 ... 1 1 101348.88]\n",
      " [608 'Spain' 0 ... 0 1 112542.58]\n",
      " [502 'France' 0 ... 1 0 113931.57]\n",
      " ...\n",
      " [709 'France' 0 ... 0 1 42085.58]\n",
      " [772 'Germany' 1 ... 1 0 92888.52]\n",
      " [792 'France' 0 ... 1 0 38190.78]]\n"
     ]
    }
   ],
   "source": [
    "print(x)"
   ]
  },
  {
   "cell_type": "code",
   "execution_count": 10,
   "metadata": {},
   "outputs": [],
   "source": [
    "#One hot encode geography column\n",
    "from sklearn.compose import ColumnTransformer\n",
    "from sklearn.preprocessing import OneHotEncoder\n",
    "ct = ColumnTransformer(transformers=[('encoder',OneHotEncoder(),[1])],remainder = 'passthrough')\n",
    "x = np.array(ct.fit_transform(x))"
   ]
  },
  {
   "cell_type": "code",
   "execution_count": 12,
   "metadata": {},
   "outputs": [
    {
     "name": "stdout",
     "output_type": "stream",
     "text": [
      "[[1.0 0.0 0.0 ... 1 1 101348.88]\n",
      " [0.0 0.0 1.0 ... 0 1 112542.58]\n",
      " [1.0 0.0 0.0 ... 1 0 113931.57]\n",
      " ...\n",
      " [1.0 0.0 0.0 ... 0 1 42085.58]\n",
      " [0.0 1.0 0.0 ... 1 0 92888.52]\n",
      " [1.0 0.0 0.0 ... 1 0 38190.78]]\n"
     ]
    }
   ],
   "source": [
    "print(x)"
   ]
  },
  {
   "cell_type": "code",
   "execution_count": 14,
   "metadata": {},
   "outputs": [],
   "source": [
    "from sklearn.model_selection import train_test_split\n",
    "x_train, x_test, y_train, y_test = train_test_split(x,y,test_size = .2, random_state=0)\n"
   ]
  },
  {
   "cell_type": "code",
   "execution_count": 15,
   "metadata": {},
   "outputs": [],
   "source": [
    "from sklearn.preprocessing import StandardScaler\n",
    "sc = StandardScaler()\n",
    "x_train = sc.fit_transform(x_train)\n",
    "x_test = sc.transform(x_test)"
   ]
  },
  {
   "cell_type": "code",
   "execution_count": 17,
   "metadata": {},
   "outputs": [],
   "source": [
    "an = tf.keras.models.Sequential()\n",
    "an.add(tf.keras.layers.Dense(units = 6, activation = 'relu'))"
   ]
  },
  {
   "cell_type": "code",
   "execution_count": 18,
   "metadata": {},
   "outputs": [],
   "source": [
    "an.add(tf.keras.layers.Dense(units = 6, activation = 'relu'))"
   ]
  },
  {
   "cell_type": "code",
   "execution_count": 19,
   "metadata": {},
   "outputs": [],
   "source": [
    "#activation = softmax if not binary classification\n",
    "an.add(tf.keras.layers.Dense(units = 1, activation = 'sigmoid'))"
   ]
  },
  {
   "cell_type": "code",
   "execution_count": 20,
   "metadata": {},
   "outputs": [],
   "source": [
    "an.compile(optimizer = 'adam',loss = 'binary_crossentropy',metrics = ['accuracy'])"
   ]
  },
  {
   "cell_type": "code",
   "execution_count": 40,
   "metadata": {},
   "outputs": [
    {
     "name": "stdout",
     "output_type": "stream",
     "text": [
      "Train on 8000 samples\n",
      "Epoch 1/100\n",
      "8000/8000 [==============================] - 0s 47us/sample - loss: 0.3288 - accuracy: 0.8646\n",
      "Epoch 2/100\n",
      "8000/8000 [==============================] - 0s 16us/sample - loss: 0.3287 - accuracy: 0.8649\n",
      "Epoch 3/100\n",
      "8000/8000 [==============================] - 0s 16us/sample - loss: 0.3288 - accuracy: 0.8649\n",
      "Epoch 4/100\n",
      "8000/8000 [==============================] - 0s 16us/sample - loss: 0.3287 - accuracy: 0.8655\n",
      "Epoch 5/100\n",
      "8000/8000 [==============================] - 0s 16us/sample - loss: 0.3287 - accuracy: 0.8651\n",
      "Epoch 6/100\n",
      "8000/8000 [==============================] - 0s 17us/sample - loss: 0.3284 - accuracy: 0.8651\n",
      "Epoch 7/100\n",
      "8000/8000 [==============================] - 0s 16us/sample - loss: 0.3289 - accuracy: 0.8641\n",
      "Epoch 8/100\n",
      "8000/8000 [==============================] - 0s 17us/sample - loss: 0.3287 - accuracy: 0.8662\n",
      "Epoch 9/100\n",
      "8000/8000 [==============================] - 0s 17us/sample - loss: 0.3288 - accuracy: 0.8660\n",
      "Epoch 10/100\n",
      "8000/8000 [==============================] - 0s 16us/sample - loss: 0.3283 - accuracy: 0.8670\n",
      "Epoch 11/100\n",
      "8000/8000 [==============================] - 0s 16us/sample - loss: 0.3290 - accuracy: 0.8649\n",
      "Epoch 12/100\n",
      "8000/8000 [==============================] - 0s 16us/sample - loss: 0.3287 - accuracy: 0.8651\n",
      "Epoch 13/100\n",
      "8000/8000 [==============================] - 0s 16us/sample - loss: 0.3288 - accuracy: 0.8631\n",
      "Epoch 14/100\n",
      "8000/8000 [==============================] - 0s 17us/sample - loss: 0.3286 - accuracy: 0.8637\n",
      "Epoch 15/100\n",
      "8000/8000 [==============================] - 0s 16us/sample - loss: 0.3289 - accuracy: 0.8639\n",
      "Epoch 16/100\n",
      "8000/8000 [==============================] - 0s 17us/sample - loss: 0.3287 - accuracy: 0.8636\n",
      "Epoch 17/100\n",
      "8000/8000 [==============================] - 0s 17us/sample - loss: 0.3285 - accuracy: 0.8639\n",
      "Epoch 18/100\n",
      "8000/8000 [==============================] - 0s 17us/sample - loss: 0.3288 - accuracy: 0.8661\n",
      "Epoch 19/100\n",
      "8000/8000 [==============================] - 0s 17us/sample - loss: 0.3286 - accuracy: 0.8643s - loss: 0.3260 - accuracy: 0.\n",
      "Epoch 20/100\n",
      "8000/8000 [==============================] - 0s 17us/sample - loss: 0.3286 - accuracy: 0.8640\n",
      "Epoch 21/100\n",
      "8000/8000 [==============================] - 0s 16us/sample - loss: 0.3289 - accuracy: 0.8648\n",
      "Epoch 22/100\n",
      "8000/8000 [==============================] - 0s 17us/sample - loss: 0.3286 - accuracy: 0.8648\n",
      "Epoch 23/100\n",
      "8000/8000 [==============================] - 0s 17us/sample - loss: 0.3286 - accuracy: 0.8640\n",
      "Epoch 24/100\n",
      "8000/8000 [==============================] - 0s 16us/sample - loss: 0.3285 - accuracy: 0.8645\n",
      "Epoch 25/100\n",
      "8000/8000 [==============================] - 0s 17us/sample - loss: 0.3288 - accuracy: 0.8636\n",
      "Epoch 26/100\n",
      "8000/8000 [==============================] - 0s 16us/sample - loss: 0.3284 - accuracy: 0.8652\n",
      "Epoch 27/100\n",
      "8000/8000 [==============================] - 0s 17us/sample - loss: 0.3284 - accuracy: 0.8649\n",
      "Epoch 28/100\n",
      "8000/8000 [==============================] - 0s 17us/sample - loss: 0.3287 - accuracy: 0.8631\n",
      "Epoch 29/100\n",
      "8000/8000 [==============================] - 0s 17us/sample - loss: 0.3286 - accuracy: 0.8650s - loss: 0.3183 - accuracy: 0.\n",
      "Epoch 30/100\n",
      "8000/8000 [==============================] - 0s 17us/sample - loss: 0.3289 - accuracy: 0.8645\n",
      "Epoch 31/100\n",
      "8000/8000 [==============================] - 0s 17us/sample - loss: 0.3285 - accuracy: 0.8644\n",
      "Epoch 32/100\n",
      "8000/8000 [==============================] - 0s 17us/sample - loss: 0.3284 - accuracy: 0.8649s - loss: 0.3152 - accuracy: 0.\n",
      "Epoch 33/100\n",
      "8000/8000 [==============================] - 0s 17us/sample - loss: 0.3287 - accuracy: 0.8633\n",
      "Epoch 34/100\n",
      "8000/8000 [==============================] - 0s 17us/sample - loss: 0.3283 - accuracy: 0.8664s - loss: 0.3242 - accuracy: 0.\n",
      "Epoch 35/100\n",
      "8000/8000 [==============================] - 0s 17us/sample - loss: 0.3284 - accuracy: 0.8640\n",
      "Epoch 36/100\n",
      "8000/8000 [==============================] - 0s 17us/sample - loss: 0.3284 - accuracy: 0.8651\n",
      "Epoch 37/100\n",
      "8000/8000 [==============================] - 0s 16us/sample - loss: 0.3286 - accuracy: 0.8655\n",
      "Epoch 38/100\n",
      "8000/8000 [==============================] - 0s 17us/sample - loss: 0.3285 - accuracy: 0.8645\n",
      "Epoch 39/100\n",
      "8000/8000 [==============================] - 0s 17us/sample - loss: 0.3286 - accuracy: 0.8631\n",
      "Epoch 40/100\n",
      "8000/8000 [==============================] - 0s 17us/sample - loss: 0.3284 - accuracy: 0.8664\n",
      "Epoch 41/100\n",
      "8000/8000 [==============================] - 0s 16us/sample - loss: 0.3285 - accuracy: 0.8650\n",
      "Epoch 42/100\n",
      "8000/8000 [==============================] - 0s 19us/sample - loss: 0.3281 - accuracy: 0.8646\n",
      "Epoch 43/100\n",
      "8000/8000 [==============================] - 0s 18us/sample - loss: 0.3285 - accuracy: 0.8645\n",
      "Epoch 44/100\n",
      "8000/8000 [==============================] - 0s 21us/sample - loss: 0.3285 - accuracy: 0.8654\n",
      "Epoch 45/100\n",
      "8000/8000 [==============================] - 0s 17us/sample - loss: 0.3283 - accuracy: 0.8643\n",
      "Epoch 46/100\n",
      "8000/8000 [==============================] - 0s 18us/sample - loss: 0.3282 - accuracy: 0.8649\n",
      "Epoch 47/100\n",
      "8000/8000 [==============================] - 0s 17us/sample - loss: 0.3282 - accuracy: 0.8640\n",
      "Epoch 48/100\n",
      "8000/8000 [==============================] - 0s 15us/sample - loss: 0.3283 - accuracy: 0.8662\n",
      "Epoch 49/100\n",
      "8000/8000 [==============================] - 0s 16us/sample - loss: 0.3283 - accuracy: 0.8637\n",
      "Epoch 50/100\n",
      "8000/8000 [==============================] - 0s 16us/sample - loss: 0.3284 - accuracy: 0.8641\n",
      "Epoch 51/100\n",
      "8000/8000 [==============================] - 0s 15us/sample - loss: 0.3279 - accuracy: 0.8631\n",
      "Epoch 52/100\n",
      "8000/8000 [==============================] - 0s 17us/sample - loss: 0.3284 - accuracy: 0.8649\n",
      "Epoch 53/100\n",
      "8000/8000 [==============================] - 0s 17us/sample - loss: 0.3282 - accuracy: 0.8650\n",
      "Epoch 54/100\n",
      "8000/8000 [==============================] - 0s 17us/sample - loss: 0.3280 - accuracy: 0.8643\n",
      "Epoch 55/100\n",
      "8000/8000 [==============================] - 0s 16us/sample - loss: 0.3279 - accuracy: 0.8651\n",
      "Epoch 56/100\n",
      "8000/8000 [==============================] - 0s 16us/sample - loss: 0.3282 - accuracy: 0.8648\n",
      "Epoch 57/100\n",
      "8000/8000 [==============================] - 0s 16us/sample - loss: 0.3277 - accuracy: 0.8637\n",
      "Epoch 58/100\n",
      "8000/8000 [==============================] - 0s 16us/sample - loss: 0.3284 - accuracy: 0.8648s - loss: 0.3334 - accuracy: 0.\n",
      "Epoch 59/100\n",
      "8000/8000 [==============================] - 0s 16us/sample - loss: 0.3281 - accuracy: 0.8646\n",
      "Epoch 60/100\n",
      "8000/8000 [==============================] - 0s 16us/sample - loss: 0.3278 - accuracy: 0.8654\n",
      "Epoch 61/100\n",
      "8000/8000 [==============================] - 0s 15us/sample - loss: 0.3277 - accuracy: 0.8646\n",
      "Epoch 62/100\n",
      "8000/8000 [==============================] - 0s 16us/sample - loss: 0.3278 - accuracy: 0.8641\n",
      "Epoch 63/100\n",
      "8000/8000 [==============================] - 0s 17us/sample - loss: 0.3281 - accuracy: 0.8645\n",
      "Epoch 64/100\n",
      "8000/8000 [==============================] - 0s 22us/sample - loss: 0.3278 - accuracy: 0.8648\n",
      "Epoch 65/100\n",
      "8000/8000 [==============================] - 0s 15us/sample - loss: 0.3280 - accuracy: 0.8626\n",
      "Epoch 66/100\n",
      "8000/8000 [==============================] - 0s 16us/sample - loss: 0.3279 - accuracy: 0.8652\n",
      "Epoch 67/100\n",
      "8000/8000 [==============================] - 0s 16us/sample - loss: 0.3275 - accuracy: 0.8655\n",
      "Epoch 68/100\n",
      "8000/8000 [==============================] - 0s 16us/sample - loss: 0.3280 - accuracy: 0.8649\n",
      "Epoch 69/100\n",
      "8000/8000 [==============================] - 0s 15us/sample - loss: 0.3276 - accuracy: 0.8645\n",
      "Epoch 70/100\n",
      "8000/8000 [==============================] - 0s 18us/sample - loss: 0.3279 - accuracy: 0.8649\n",
      "Epoch 71/100\n",
      "8000/8000 [==============================] - 0s 17us/sample - loss: 0.3275 - accuracy: 0.8634\n",
      "Epoch 72/100\n",
      "8000/8000 [==============================] - 0s 20us/sample - loss: 0.3276 - accuracy: 0.8644\n",
      "Epoch 73/100\n",
      "8000/8000 [==============================] - 0s 19us/sample - loss: 0.3277 - accuracy: 0.8641\n",
      "Epoch 74/100\n",
      "8000/8000 [==============================] - 0s 15us/sample - loss: 0.3277 - accuracy: 0.8633\n",
      "Epoch 75/100\n",
      "8000/8000 [==============================] - 0s 15us/sample - loss: 0.3281 - accuracy: 0.8643\n",
      "Epoch 76/100\n",
      "8000/8000 [==============================] - 0s 16us/sample - loss: 0.3277 - accuracy: 0.8639\n",
      "Epoch 77/100\n",
      "8000/8000 [==============================] - 0s 15us/sample - loss: 0.3279 - accuracy: 0.8643\n",
      "Epoch 78/100\n",
      "8000/8000 [==============================] - 0s 16us/sample - loss: 0.3275 - accuracy: 0.8641\n",
      "Epoch 79/100\n",
      "8000/8000 [==============================] - 0s 15us/sample - loss: 0.3275 - accuracy: 0.8650\n",
      "Epoch 80/100\n",
      "8000/8000 [==============================] - 0s 15us/sample - loss: 0.3273 - accuracy: 0.8644\n",
      "Epoch 81/100\n",
      "8000/8000 [==============================] - 0s 17us/sample - loss: 0.3274 - accuracy: 0.8637\n",
      "Epoch 82/100\n",
      "8000/8000 [==============================] - 0s 16us/sample - loss: 0.3272 - accuracy: 0.8648\n",
      "Epoch 83/100\n",
      "8000/8000 [==============================] - 0s 16us/sample - loss: 0.3272 - accuracy: 0.8640\n",
      "Epoch 84/100\n",
      "8000/8000 [==============================] - 0s 16us/sample - loss: 0.3276 - accuracy: 0.8651\n",
      "Epoch 85/100\n",
      "8000/8000 [==============================] - 0s 16us/sample - loss: 0.3268 - accuracy: 0.8650\n",
      "Epoch 86/100\n",
      "8000/8000 [==============================] - 0s 16us/sample - loss: 0.3274 - accuracy: 0.8650\n",
      "Epoch 87/100\n",
      "8000/8000 [==============================] - 0s 16us/sample - loss: 0.3275 - accuracy: 0.8640\n",
      "Epoch 88/100\n",
      "8000/8000 [==============================] - 0s 16us/sample - loss: 0.3270 - accuracy: 0.8634\n",
      "Epoch 89/100\n",
      "8000/8000 [==============================] - 0s 16us/sample - loss: 0.3273 - accuracy: 0.8636s - loss: 0.3306 - accuracy: 0.86\n",
      "Epoch 90/100\n",
      "8000/8000 [==============================] - 0s 17us/sample - loss: 0.3271 - accuracy: 0.8643\n",
      "Epoch 91/100\n",
      "8000/8000 [==============================] - 0s 16us/sample - loss: 0.3273 - accuracy: 0.8656\n",
      "Epoch 92/100\n",
      "8000/8000 [==============================] - 0s 17us/sample - loss: 0.3272 - accuracy: 0.8636\n",
      "Epoch 93/100\n",
      "8000/8000 [==============================] - 0s 16us/sample - loss: 0.3269 - accuracy: 0.8652\n",
      "Epoch 94/100\n",
      "8000/8000 [==============================] - 0s 16us/sample - loss: 0.3270 - accuracy: 0.8648\n",
      "Epoch 95/100\n",
      "8000/8000 [==============================] - 0s 16us/sample - loss: 0.3267 - accuracy: 0.8654\n",
      "Epoch 96/100\n",
      "8000/8000 [==============================] - 0s 16us/sample - loss: 0.3274 - accuracy: 0.8649\n",
      "Epoch 97/100\n",
      "8000/8000 [==============================] - 0s 16us/sample - loss: 0.3269 - accuracy: 0.8644\n",
      "Epoch 98/100\n",
      "8000/8000 [==============================] - 0s 17us/sample - loss: 0.3268 - accuracy: 0.8637\n",
      "Epoch 99/100\n",
      "8000/8000 [==============================] - 0s 16us/sample - loss: 0.3267 - accuracy: 0.8643\n",
      "Epoch 100/100\n",
      "8000/8000 [==============================] - 0s 17us/sample - loss: 0.3271 - accuracy: 0.8655\n"
     ]
    },
    {
     "data": {
      "text/plain": [
       "<tensorflow.python.keras.callbacks.History at 0x1d45be10e48>"
      ]
     },
     "execution_count": 40,
     "metadata": {},
     "output_type": "execute_result"
    }
   ],
   "source": [
    "#Batch Learning\n",
    "an.fit(x_train, y_train, batch_size = 64, epochs = 100,)"
   ]
  },
  {
   "cell_type": "code",
   "execution_count": 41,
   "metadata": {},
   "outputs": [
    {
     "name": "stdout",
     "output_type": "stream",
     "text": [
      "[[0.20375568]]\n"
     ]
    }
   ],
   "source": [
    "print(an.predict(sc.transform([[ 1, 0, 0, 500, 0, 55, 2, 100000, 2, 1, 1, 221200]])))#.5 is threshold probability and if it is greater than .5 then the probability of leaving is high"
   ]
  },
  {
   "cell_type": "code",
   "execution_count": 42,
   "metadata": {},
   "outputs": [],
   "source": [
    "y_pred = an.predict(x_test)\n",
    "y_pred = (y_pred > .5)"
   ]
  },
  {
   "cell_type": "code",
   "execution_count": 43,
   "metadata": {},
   "outputs": [
    {
     "name": "stdout",
     "output_type": "stream",
     "text": [
      "[[1514   81]\n",
      " [ 193  212]]\n"
     ]
    },
    {
     "data": {
      "text/plain": [
       "0.863"
      ]
     },
     "execution_count": 43,
     "metadata": {},
     "output_type": "execute_result"
    }
   ],
   "source": [
    "from sklearn.metrics import confusion_matrix, accuracy_score\n",
    "cm = confusion_matrix(y_test, y_pred)\n",
    "print(cm)\n",
    "accuracy_score(y_test,y_pred)"
   ]
  },
  {
   "cell_type": "code",
   "execution_count": null,
   "metadata": {},
   "outputs": [],
   "source": []
  }
 ],
 "metadata": {
  "kernelspec": {
   "display_name": "Python 3",
   "language": "python",
   "name": "python3"
  },
  "language_info": {
   "codemirror_mode": {
    "name": "ipython",
    "version": 3
   },
   "file_extension": ".py",
   "mimetype": "text/x-python",
   "name": "python",
   "nbconvert_exporter": "python",
   "pygments_lexer": "ipython3",
   "version": "3.7.6"
  }
 },
 "nbformat": 4,
 "nbformat_minor": 4
}
